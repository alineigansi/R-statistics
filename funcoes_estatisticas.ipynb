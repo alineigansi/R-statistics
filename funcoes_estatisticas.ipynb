{
  "nbformat": 4,
  "nbformat_minor": 0,
  "metadata": {
    "colab": {
      "name": "funcoes_estatisticas.ipynb",
      "provenance": [],
      "authorship_tag": "ABX9TyPj35V5KzYyMNN+yM4Wse7H",
      "include_colab_link": true
    },
    "kernelspec": {
      "name": "python3",
      "display_name": "Python 3"
    }
  },
  "cells": [
    {
      "cell_type": "markdown",
      "metadata": {
        "id": "view-in-github",
        "colab_type": "text"
      },
      "source": [
        "<a href=\"https://colab.research.google.com/github/alineigansi/R-statistics/blob/master/funcoes_estatisticas.ipynb\" target=\"_parent\"><img src=\"https://colab.research.google.com/assets/colab-badge.svg\" alt=\"Open In Colab\"/></a>"
      ]
    },
    {
      "cell_type": "code",
      "metadata": {
        "id": "UxQhO1SLi8lL",
        "colab_type": "code",
        "colab": {}
      },
      "source": [
        "import numpy as np"
      ],
      "execution_count": 0,
      "outputs": []
    },
    {
      "cell_type": "code",
      "metadata": {
        "id": "6YyRypBejGdA",
        "colab_type": "code",
        "colab": {}
      },
      "source": [
        "x = np.random.randint(0, 99, 8)\n"
      ],
      "execution_count": 0,
      "outputs": []
    },
    {
      "cell_type": "code",
      "metadata": {
        "id": "tPZp66KFjGrQ",
        "colab_type": "code",
        "colab": {}
      },
      "source": [
        "def statistics(x):\n",
        "\n",
        "  MIN = np.min(x)\n",
        "  MAX = np.max(x)\n",
        "  AVG = np.mean(x)\n",
        "  MED = np.median(x)\n",
        "  VAR = np.var(x)\n",
        "  STD = np.std(x)\n",
        "\n",
        "  stats = [MIN, MAX, AVG, MED, VAR, STD]\n",
        "\n",
        "  return stats"
      ],
      "execution_count": 0,
      "outputs": []
    },
    {
      "cell_type": "code",
      "metadata": {
        "id": "Wnr9AnbpjG4Y",
        "colab_type": "code",
        "colab": {
          "base_uri": "https://localhost:8080/",
          "height": 67
        },
        "outputId": "a37a15ea-61cf-4dc6-ca16-5040b93e9fed"
      },
      "source": [
        "STAT = statistics(x)\n",
        "print('Os valores sorteados foram:')\n",
        "print(x)\n",
        "print('Valor mínimo: {:2.2f}'.format(STAT[0]) + ', máximo: {:2.2f}'.format(STAT[1]) + ', média: {:2.2f}'.format(STAT[2]) + ', mediana: {:2.2f}'.format(STAT[3]) + ', variância: {:2.2f}'.format(STAT[4]) + ' e desvio padrão: {:2.2f}'.format(STAT[5]))\n"
      ],
      "execution_count": 17,
      "outputs": [
        {
          "output_type": "stream",
          "text": [
            "Os valores sorteados foram:\n",
            "[87 16 94 29 69 42 26 72]\n",
            "Valor mínimo: 16.00, máximo: 94.00, média: 54.38, mediana: 55.50, variância: 779.23 e desvio padrão: 27.91\n"
          ],
          "name": "stdout"
        }
      ]
    },
    {
      "cell_type": "code",
      "metadata": {
        "id": "nKnxQmjQjHFC",
        "colab_type": "code",
        "colab": {}
      },
      "source": [
        ""
      ],
      "execution_count": 0,
      "outputs": []
    },
    {
      "cell_type": "code",
      "metadata": {
        "id": "fSy2Jp11jHTW",
        "colab_type": "code",
        "colab": {}
      },
      "source": [
        ""
      ],
      "execution_count": 0,
      "outputs": []
    },
    {
      "cell_type": "code",
      "metadata": {
        "id": "VSJBswiejHgF",
        "colab_type": "code",
        "colab": {}
      },
      "source": [
        ""
      ],
      "execution_count": 0,
      "outputs": []
    },
    {
      "cell_type": "code",
      "metadata": {
        "id": "SKP6TiKZjHzu",
        "colab_type": "code",
        "colab": {}
      },
      "source": [
        ""
      ],
      "execution_count": 0,
      "outputs": []
    }
  ]
}